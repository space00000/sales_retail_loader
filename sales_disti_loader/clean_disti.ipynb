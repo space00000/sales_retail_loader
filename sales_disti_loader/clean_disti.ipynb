{
 "cells": [
  {
   "cell_type": "code",
   "execution_count": 60,
   "metadata": {},
   "outputs": [],
   "source": [
    "import pandas as pd\n",
    "from datetime import datetime as dt\n",
    "from datetime import timedelta\n",
    "import os\n",
    "import psycopg2\n",
    "\n",
    "#Carpetas donde se encuentran los archivos\n",
    "\n",
    "retail_data_path = 'C:/Users/GERARDITO/OneDrive - ASUS/Python/distributor_data_cleaner/Input/'\n",
    "\n",
    "input_ingram = os.path.join(retail_data_path, 'INGRAM.xlsx')\n",
    "\n",
    "input_ingram_stock = os.path.join(retail_data_path, 'INGRAM STOCK.xlsx')\n",
    "\n",
    "input_intcomex = os.path.join(retail_data_path, 'INTCOMEX.xlsx')\n",
    "\n",
    "input_intcomex_stock = os.path.join(retail_data_path, 'INTCOMEX STOCK.xlsx')\n",
    "\n",
    "input_nexsys = os.path.join(retail_data_path, 'NEXSYS.xlsx')\n",
    "\n",
    "# Variable global para obtener el ultimo dataframe limpiado\n",
    "\n",
    "df_disti_sales = pd.DataFrame()\n",
    "\n",
    "df_disti_stock = pd.DataFrame()\n"
   ]
  },
  {
   "cell_type": "code",
   "execution_count": 61,
   "metadata": {},
   "outputs": [
    {
     "name": "stderr",
     "output_type": "stream",
     "text": [
      "c:\\Users\\GERARDITO\\AppData\\Local\\Programs\\Python\\Python310\\lib\\site-packages\\pandas\\io\\sql.py:761: UserWarning: pandas only support SQLAlchemy connectable(engine/connection) ordatabase string URI or sqlite3 DBAPI2 connectionother DBAPI2 objects are not tested, please consider using SQLAlchemy\n",
      "  warnings.warn(\n"
     ]
    }
   ],
   "source": [
    "# Conexion a database para obtener id\n",
    "\n",
    "connection = psycopg2.connect(\n",
    "    host='localhost',\n",
    "    database='asus_db',\n",
    "    user='postgres',\n",
    "    password='GitsyLipsy6853',\n",
    "    port='5432'\n",
    ")\n",
    "\n",
    "sql_command = \"\"\" SELECT * FROM importer\"\"\"\n",
    "\n",
    "df_importer = pd.read_sql(sql_command, connection)\n",
    "\n",
    "df_importer = df_importer.rename(columns={'id':'importer_id'})"
   ]
  },
  {
   "cell_type": "code",
   "execution_count": 62,
   "metadata": {},
   "outputs": [],
   "source": [
    "\n",
    "def clean_nexsys():\n",
    "\n",
    "    #Ventas\n",
    "\n",
    "    nexsys_sales = pd.read_excel(input_nexsys)\n",
    "\n",
    "    df = pd.DataFrame(nexsys_sales)\n",
    "\n",
    "    df = df.rename(columns={'Date':'date',\n",
    "                            'Qty':'sell_out_units',\n",
    "                            'Revenue':'sell_out_value',\n",
    "                            'TAX-ID':'buyer_code',\n",
    "                            'P#':'sku'})\n",
    "\n",
    "    df['importer_name'] = 'Nexsys'\n",
    "\n",
    "    df = df[df['sku'].notna()]\n",
    "\n",
    "    df = df[['date',\n",
    "            'importer_name',\n",
    "            'sku',\n",
    "            'sell_out_units',\n",
    "            'sell_out_value',\n",
    "            'buyer_code']]\n",
    "\n",
    "    #stock\n",
    "\n",
    "    nexsys_stock = pd.read_excel(input_nexsys, sheet_name=\"Inventory\")\n",
    "\n",
    "    df1 = pd.DataFrame(nexsys_stock)\n",
    "\n",
    "    df1 = df1.rename(columns={'On-Hand':'stock_units',\n",
    "                                'P#':'sku'})\n",
    "\n",
    "    #Domingo\n",
    "\n",
    "    day_s = df['date'].iloc[0].strftime(\"%d-%m-%Y\")\n",
    "    dt1 = dt.strptime(day_s, '%d-%m-%Y')\n",
    "    start = dt1 - timedelta(days=dt1.weekday())\n",
    "    end_week = start + timedelta(days=6)\n",
    "\n",
    "    df1['date'] = end_week\n",
    "\n",
    "    df1['importer_name'] = 'Nexsys'\n",
    "\n",
    "    df1['stock_value'] = 0\n",
    "\n",
    "    df1 = df1[['date',\n",
    "                'importer_name',\n",
    "                'sku',\n",
    "                'stock_units',\n",
    "                'stock_value']]\n",
    "\n",
    "    global df_disti_stock\n",
    "\n",
    "    global df_disti_sales\n",
    "    \n",
    "    df = pd.merge(df,df_importer[['importer_name','importer_id']],left_on='importer_name', right_on='importer_name', how='inner')\n",
    "\n",
    "    df1 = pd.merge(df1,df_importer[['importer_name','importer_id']],left_on='importer_name', right_on='importer_name', how='inner')\n",
    "\n",
    "    df_disti_sales = df\n",
    "\n",
    "    df_disti_stock = df1\n",
    "    \n",
    "\n",
    "    "
   ]
  },
  {
   "cell_type": "code",
   "execution_count": 63,
   "metadata": {},
   "outputs": [
    {
     "name": "stdout",
     "output_type": "stream",
     "text": [
      "         date importer_name              sku  stock_units  stock_value  \\\n",
      "0  2022-10-16        Nexsys  90NB0TS1-M002V0            4            0   \n",
      "1  2022-10-16        Nexsys  90NB0VD1-M00400            1            0   \n",
      "2  2022-10-16        Nexsys  90NB0XD1-M003S0           28            0   \n",
      "3  2022-10-16        Nexsys  90NX01X1-M15210            1            0   \n",
      "4  2022-10-16        Nexsys  90NX01X1-M15220            1            0   \n",
      "5  2022-10-16        Nexsys  90NX02N1-M00HU0           77            0   \n",
      "6  2022-10-16        Nexsys  90NX03R1-M004J0           23            0   \n",
      "7  2022-10-16        Nexsys  90NX03S1-M01100           46            0   \n",
      "8  2022-10-16        Nexsys  90NX0421-M02EE0          144            0   \n",
      "9  2022-10-16        Nexsys  90NX0441-M25930           25            0   \n",
      "10 2022-10-16        Nexsys  90NX0460-P00110           32            0   \n",
      "11 2022-10-16        Nexsys  90NX05D1-M000T0          132            0   \n",
      "12 2022-10-16        Nexsys  90NX05D1-M00HP0          138            0   \n",
      "13 2022-10-16        Nexsys  90NX0SX1-M07770           14            0   \n",
      "\n",
      "    importer_id  \n",
      "0            22  \n",
      "1            22  \n",
      "2            22  \n",
      "3            22  \n",
      "4            22  \n",
      "5            22  \n",
      "6            22  \n",
      "7            22  \n",
      "8            22  \n",
      "9            22  \n",
      "10           22  \n",
      "11           22  \n",
      "12           22  \n",
      "13           22  \n"
     ]
    }
   ],
   "source": [
    "clean_nexsys()\n",
    "print(df_disti_stock)"
   ]
  }
 ],
 "metadata": {
  "kernelspec": {
   "display_name": "Python 3.10.7 64-bit",
   "language": "python",
   "name": "python3"
  },
  "language_info": {
   "codemirror_mode": {
    "name": "ipython",
    "version": 3
   },
   "file_extension": ".py",
   "mimetype": "text/x-python",
   "name": "python",
   "nbconvert_exporter": "python",
   "pygments_lexer": "ipython3",
   "version": "3.10.7"
  },
  "orig_nbformat": 4,
  "vscode": {
   "interpreter": {
    "hash": "74a27ae9c900ac01cd3d90349cab9c014337781a9593577a26f65574ac168aa7"
   }
  }
 },
 "nbformat": 4,
 "nbformat_minor": 2
}
